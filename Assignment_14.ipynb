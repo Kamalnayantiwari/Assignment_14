{
 "cells": [
  {
   "cell_type": "code",
   "execution_count": null,
   "id": "38832077",
   "metadata": {},
   "outputs": [],
   "source": [
    "Q1. What is multithreading in python? Why is it used? Name the module used to handle threads in python"
   ]
  },
  {
   "cell_type": "code",
   "execution_count": null,
   "id": "6f032b1d",
   "metadata": {},
   "outputs": [],
   "source": [
    "Multithreading in Python is a technique to execute multiple threads (smaller units of a process) simultaneously, each of which runs independently of the main program. It allows multiple threads to share a single CPU, resulting in faster and more efficient execution of programs.\n",
    "Multithreading is used in Python to improve the performance of a program by executing tasks in parallel, especially in cases where tasks are CPU-bound or involve waiting for external resources (e.g., network or disk I/O). It is commonly used in applications that require concurrent or asynchronous processing, such as web servers, data processing pipelines, and real-time systems.\n",
    "In Python, the threading module is used to handle threads. The threading module provides a simple way to create and manage threads, with support for synchronization, locks, and events to coordinate access to shared resources.\n",
    "Here is an example of how to create and start a thread using the threading module:"
   ]
  },
  {
   "cell_type": "code",
   "execution_count": 1,
   "id": "d0ec41b3",
   "metadata": {},
   "outputs": [
    {
     "name": "stdout",
     "output_type": "stream",
     "text": [
      "This is my thread\n"
     ]
    }
   ],
   "source": [
    "import threading\n",
    "def my_thread_func():\n",
    "    print(\"This is my thread\")\n",
    "t = threading.Thread(target=my_thread_func)\n",
    "t.start()"
   ]
  },
  {
   "cell_type": "code",
   "execution_count": null,
   "id": "31567eb3",
   "metadata": {},
   "outputs": [],
   "source": [
    "Q2. Why threading module used? Write the use of the following functions\n",
    "activeCount() currentThread() enumerate()"
   ]
  },
  {
   "cell_type": "code",
   "execution_count": null,
   "id": "dcd05093",
   "metadata": {},
   "outputs": [],
   "source": [
    "The threading module in Python is used to create and manage threads. It provides a high-level interface for creating threads and controlling their execution, with support for synchronization, locks, and events to coordinate access to shared resources.\n",
    "Here is a brief explanation of the functions you asked about:\n",
    "activeCount(): This function returns the number of currently active threads in the current thread's thread control block. It can be used to check how many threads are currently running in a program.\n",
    "currentThread(): This function returns a reference to the current thread object. It can be used to get information about the current thread, such as its name, identifier, and state.\n",
    "enumerate(): This function returns a list of all currently active thread objects. It can be used to get information about all the threads that are currently running in a program.\n",
    "Here's an example of how to use these functions:"
   ]
  },
  {
   "cell_type": "code",
   "execution_count": 2,
   "id": "50b3a68c",
   "metadata": {},
   "outputs": [
    {
     "name": "stdout",
     "output_type": "stream",
     "text": [
      "This is my thread\n",
      "Number of active threads: 8\n",
      "Current thread: <_MainThread(MainThread, started 523790458576)>\n",
      "All threads: [<_MainThread(MainThread, started 523790458576)>, <Thread(IOPub, started daemon 523639962960)>, <Heartbeat(Heartbeat, started daemon 523622149456)>, <Thread(Thread-3, started daemon 523568708944)>, <Thread(Thread-4, started daemon 523550895440)>, <ControlThread(Control, started daemon 523533081936)>, <HistorySavingThread(IPythonHistorySavingThread, started 523515268432)>, <ParentPollerUnix(Thread-2, started daemon 523497192784)>]\n"
     ]
    }
   ],
   "source": [
    "import threading\n",
    "def my_thread_func():\n",
    "    print(\"This is my thread\")\n",
    "# Create a new thread\n",
    "t = threading.Thread(target=my_thread_func)\n",
    "# Start the thread\n",
    "t.start()\n",
    "# Get the number of currently active threads\n",
    "num_threads = threading.active_count()\n",
    "print(\"Number of active threads:\", num_threads)\n",
    "# Get a reference to the current thread\n",
    "current_thread = threading.current_thread()\n",
    "print(\"Current thread:\", current_thread)\n",
    "# Get a list of all currently active threads\n",
    "all_threads = threading.enumerate()\n",
    "print(\"All threads:\", all_threads)"
   ]
  },
  {
   "cell_type": "code",
   "execution_count": null,
   "id": "69aaf51f",
   "metadata": {},
   "outputs": [],
   "source": [
    "3. Explain the following functions\n",
    "run() start() join() isAlive()"
   ]
  },
  {
   "cell_type": "code",
   "execution_count": null,
   "id": "aa6df48e",
   "metadata": {},
   "outputs": [],
   "source": [
    "These functions are related to the Thread class in Python's threading module. Here's an explanation of each function:\n",
    "run(): This is the method that gets called when you start a thread. It contains the code that will run in the new thread. When creating a new thread, you can define your own run() method that will be executed in that thread.\n",
    "start(): This method starts the thread by calling the run() method. Once you've created a new thread with the Thread class, you can start it by calling the start() method.\n",
    "join(): This method blocks the main thread until the thread it's called on has finished. When you call join() on a thread, the main thread will wait until the thread has finished before continuing execution. This is useful if you need to ensure that a certain thread has completed before continuing with the rest of your code.\n",
    "is_alive(): This method returns True if the thread is still running, and False if it has finished. You can use this method to check the status of a thread and determine whether it's still executing or not.\n",
    "Here's an example that demonstrates the use of these methods:"
   ]
  },
  {
   "cell_type": "code",
   "execution_count": 3,
   "id": "f5d7ff86",
   "metadata": {},
   "outputs": [
    {
     "name": "stdout",
     "output_type": "stream",
     "text": [
      "Worker thread startedThread is still running\n",
      "\n",
      "Worker thread finished\n",
      "Thread has finished\n"
     ]
    }
   ],
   "source": [
    "import threading\n",
    "import time\n",
    "def worker():\n",
    "    print(\"Worker thread started\")\n",
    "    time.sleep(2)\n",
    "    print(\"Worker thread finished\")\n",
    "t = threading.Thread(target=worker)\n",
    "# Start the thread\n",
    "t.start()\n",
    "# Check if the thread is still running\n",
    "if t.is_alive():\n",
    "    print(\"Thread is still running\")\n",
    "# Wait for the thread to finish\n",
    "t.join()\n",
    "# Check if the thread is still running (should return False now)\n",
    "if t.is_alive():\n",
    "    print(\"Thread is still running\")\n",
    "else:\n",
    "    print(\"Thread has finished\")"
   ]
  },
  {
   "cell_type": "code",
   "execution_count": null,
   "id": "17f0baa9",
   "metadata": {},
   "outputs": [],
   "source": [
    "4. Write a python program to create two threads. Thread one must print the list of squares and thread two must print the list of cubes"
   ]
  },
  {
   "cell_type": "code",
   "execution_count": 4,
   "id": "fb7de99c",
   "metadata": {},
   "outputs": [
    {
     "name": "stdout",
     "output_type": "stream",
     "text": [
      "1 squared is 11 cubed is 1\n",
      "2 cubed is 8\n",
      "3 cubed is 27\n",
      "4 cubed is 64\n",
      "5 cubed is 125\n",
      "6 cubed is 216\n",
      "7 cubed is 343\n",
      "8 cubed is 512\n",
      "9 cubed is 729\n",
      "10 cubed is 1000\n",
      "\n",
      "2 squared is 4\n",
      "3 squared is 9\n",
      "4 squared is 16\n",
      "5 squared is 25\n",
      "6 squared is 36\n",
      "7 squared is 49\n",
      "8 squared is 64\n",
      "9 squared is 81\n",
      "10 squared is 100\n"
     ]
    }
   ],
   "source": [
    "import threading\n",
    "def squares():\n",
    "    for i in range(1, 11):\n",
    "        print(f\"{i} squared is {i*i}\")\n",
    "def cubes():\n",
    "    for i in range(1, 11):\n",
    "        print(f\"{i} cubed is {i*i*i}\")\n",
    "# Create the threads\n",
    "t1 = threading.Thread(target=squares)\n",
    "t2 = threading.Thread(target=cubes)\n",
    "# Start the threads\n",
    "t1.start()\n",
    "t2.start()\n",
    "# Wait for the threads to finish\n",
    "t1.join()\n",
    "t2.join()"
   ]
  },
  {
   "cell_type": "code",
   "execution_count": null,
   "id": "fd529827",
   "metadata": {},
   "outputs": [],
   "source": [
    "Q5. State advantages and disadvantages of multithreading"
   ]
  },
  {
   "cell_type": "code",
   "execution_count": null,
   "id": "723e929d",
   "metadata": {},
   "outputs": [],
   "source": [
    "Multithreading can offer several advantages and disadvantages, which are listed below:\n",
    "Advantages:\n",
    "Improved performance: Multithreading can improve the performance of a program by allowing it to perform multiple tasks concurrently.\n",
    "Increased responsiveness: Multithreading can improve the responsiveness of a program by allowing it to continue processing user input or other events while it performs time-consuming tasks in the background.\n",
    "Resource sharing: Multithreading can allow multiple threads to share resources, such as memory and file handles, which can save memory and improve efficiency.\n",
    "Disadvantages:\n",
    "Complexity: Multithreading can add complexity to a program, as it requires careful synchronization and coordination between threads to avoid race conditions and other concurrency issues.\n",
    "Overhead: Multithreading can add overhead to a program, as there is a cost associated with creating and managing multiple threads.\n",
    "Debugging: Multithreaded programs can be more difficult to debug, as concurrency issues can be difficult to reproduce and diagnose.\n",
    "Scalability: Multithreading may not always be the best solution for improving the scalability of a program, as it can be limited by factors such as the number of available cores or memory.\n",
    "Overall, multithreading can be a powerful tool for improving the performance and responsiveness of a program, but it requires careful design and management to avoid introducing new issues or complexity."
   ]
  },
  {
   "cell_type": "code",
   "execution_count": null,
   "id": "d83ee59d",
   "metadata": {},
   "outputs": [],
   "source": [
    "Q6. Explain deadlocks and race conditions."
   ]
  },
  {
   "cell_type": "code",
   "execution_count": null,
   "id": "7ff12353",
   "metadata": {},
   "outputs": [],
   "source": [
    "Deadlocks and race conditions are common concurrency issues that can occur in multithreaded programs.\n",
    "A deadlock occurs when two or more threads are blocked, waiting for each other to release a resource. This can happen when one thread holds a resource that another thread needs, and that second thread holds a resource that the first thread needs. This situation creates a circular dependency, where each thread is waiting for the other to release the resource, and neither can make progress.\n",
    "For example, imagine a program with two threads: Thread A and Thread B. Thread A holds Resource 1 and is waiting for Resource 2, while Thread B holds Resource 2 and is waiting for Resource 1. Since neither thread can proceed until it acquires the other resource, the program is deadlocked.\n",
    "A race condition, on the other hand, occurs when two or more threads access a shared resource in an unpredictable order, leading to unexpected or incorrect results. This can happen when multiple threads attempt to modify the same variable or object, and the order of those modifications is not deterministic.\n",
    "For example, imagine a program with two threads: Thread A and Thread B. Both threads access a shared variable called \"counter\" and increment it by 1. However, the order in which these increments occur is not guaranteed, and the final value of \"counter\" may be unpredictable. This is a race condition, as the final result depends on the order in which the threads execute, which may vary depending on factors such as thread scheduling and timing.\n",
    "Both deadlocks and race conditions can be difficult to detect and diagnose, as they can depend on a variety of external factors and may not be easily reproducible. To avoid these issues, it is important to design multithreaded programs carefully, with appropriate synchronization and coordination between threads to avoid conflicts and ensure correct behavior."
   ]
  },
  {
   "cell_type": "code",
   "execution_count": null,
   "id": "94aa6d8f",
   "metadata": {},
   "outputs": [],
   "source": []
  },
  {
   "cell_type": "code",
   "execution_count": null,
   "id": "9e2bde0e",
   "metadata": {},
   "outputs": [],
   "source": []
  },
  {
   "cell_type": "code",
   "execution_count": null,
   "id": "e962f475",
   "metadata": {},
   "outputs": [],
   "source": []
  },
  {
   "cell_type": "code",
   "execution_count": null,
   "id": "8d236799",
   "metadata": {},
   "outputs": [],
   "source": []
  },
  {
   "cell_type": "code",
   "execution_count": null,
   "id": "8a6cc697",
   "metadata": {},
   "outputs": [],
   "source": []
  },
  {
   "cell_type": "code",
   "execution_count": null,
   "id": "3c0393b5",
   "metadata": {},
   "outputs": [],
   "source": []
  },
  {
   "cell_type": "code",
   "execution_count": null,
   "id": "9b23cc80",
   "metadata": {},
   "outputs": [],
   "source": []
  },
  {
   "cell_type": "code",
   "execution_count": null,
   "id": "e7119a2f",
   "metadata": {},
   "outputs": [],
   "source": []
  },
  {
   "cell_type": "code",
   "execution_count": null,
   "id": "6fd7fb44",
   "metadata": {},
   "outputs": [],
   "source": []
  },
  {
   "cell_type": "code",
   "execution_count": null,
   "id": "5d7a20f8",
   "metadata": {},
   "outputs": [],
   "source": []
  },
  {
   "cell_type": "code",
   "execution_count": null,
   "id": "f386d6ec",
   "metadata": {},
   "outputs": [],
   "source": []
  },
  {
   "cell_type": "code",
   "execution_count": null,
   "id": "0129c662",
   "metadata": {},
   "outputs": [],
   "source": []
  },
  {
   "cell_type": "code",
   "execution_count": null,
   "id": "7be19773",
   "metadata": {},
   "outputs": [],
   "source": []
  },
  {
   "cell_type": "code",
   "execution_count": null,
   "id": "a4897be7",
   "metadata": {},
   "outputs": [],
   "source": []
  },
  {
   "cell_type": "code",
   "execution_count": null,
   "id": "dadab5f8",
   "metadata": {},
   "outputs": [],
   "source": []
  },
  {
   "cell_type": "code",
   "execution_count": null,
   "id": "2951f338",
   "metadata": {},
   "outputs": [],
   "source": []
  },
  {
   "cell_type": "code",
   "execution_count": null,
   "id": "74dd7a54",
   "metadata": {},
   "outputs": [],
   "source": []
  },
  {
   "cell_type": "code",
   "execution_count": null,
   "id": "4ea7fa2f",
   "metadata": {},
   "outputs": [],
   "source": []
  },
  {
   "cell_type": "code",
   "execution_count": null,
   "id": "cf3b6ff7",
   "metadata": {},
   "outputs": [],
   "source": []
  },
  {
   "cell_type": "code",
   "execution_count": null,
   "id": "f6472bae",
   "metadata": {},
   "outputs": [],
   "source": []
  },
  {
   "cell_type": "code",
   "execution_count": null,
   "id": "52836dd0",
   "metadata": {},
   "outputs": [],
   "source": []
  },
  {
   "cell_type": "code",
   "execution_count": null,
   "id": "e8fb2656",
   "metadata": {},
   "outputs": [],
   "source": []
  },
  {
   "cell_type": "code",
   "execution_count": null,
   "id": "f16f5681",
   "metadata": {},
   "outputs": [],
   "source": []
  },
  {
   "cell_type": "code",
   "execution_count": null,
   "id": "b6bcaf71",
   "metadata": {},
   "outputs": [],
   "source": []
  },
  {
   "cell_type": "code",
   "execution_count": null,
   "id": "9b4f12f9",
   "metadata": {},
   "outputs": [],
   "source": []
  },
  {
   "cell_type": "code",
   "execution_count": null,
   "id": "c552a680",
   "metadata": {},
   "outputs": [],
   "source": []
  },
  {
   "cell_type": "code",
   "execution_count": null,
   "id": "c1d1b9da",
   "metadata": {},
   "outputs": [],
   "source": []
  },
  {
   "cell_type": "code",
   "execution_count": null,
   "id": "615bc48d",
   "metadata": {},
   "outputs": [],
   "source": []
  },
  {
   "cell_type": "code",
   "execution_count": null,
   "id": "b73c0719",
   "metadata": {},
   "outputs": [],
   "source": []
  },
  {
   "cell_type": "code",
   "execution_count": null,
   "id": "ee46b7be",
   "metadata": {},
   "outputs": [],
   "source": []
  },
  {
   "cell_type": "code",
   "execution_count": null,
   "id": "bdfa2842",
   "metadata": {},
   "outputs": [],
   "source": []
  },
  {
   "cell_type": "code",
   "execution_count": null,
   "id": "495b6e7f",
   "metadata": {},
   "outputs": [],
   "source": []
  },
  {
   "cell_type": "code",
   "execution_count": null,
   "id": "eacbd785",
   "metadata": {},
   "outputs": [],
   "source": []
  },
  {
   "cell_type": "code",
   "execution_count": null,
   "id": "a5587e9a",
   "metadata": {},
   "outputs": [],
   "source": []
  },
  {
   "cell_type": "code",
   "execution_count": null,
   "id": "247806c2",
   "metadata": {},
   "outputs": [],
   "source": []
  },
  {
   "cell_type": "code",
   "execution_count": null,
   "id": "1c373594",
   "metadata": {},
   "outputs": [],
   "source": []
  },
  {
   "cell_type": "code",
   "execution_count": null,
   "id": "ffaa651b",
   "metadata": {},
   "outputs": [],
   "source": []
  }
 ],
 "metadata": {
  "kernelspec": {
   "display_name": "Python 3 (ipykernel)",
   "language": "python",
   "name": "python3"
  },
  "language_info": {
   "codemirror_mode": {
    "name": "ipython",
    "version": 3
   },
   "file_extension": ".py",
   "mimetype": "text/x-python",
   "name": "python",
   "nbconvert_exporter": "python",
   "pygments_lexer": "ipython3",
   "version": "3.9.7"
  }
 },
 "nbformat": 4,
 "nbformat_minor": 5
}
